{
 "cells": [
  {
   "cell_type": "code",
   "execution_count": 2,
   "id": "964bb2bc",
   "metadata": {},
   "outputs": [],
   "source": [
    "from openpyxl import Workbook"
   ]
  },
  {
   "cell_type": "code",
   "execution_count": 3,
   "id": "7a2048a6",
   "metadata": {},
   "outputs": [],
   "source": [
    "wb = Workbook()"
   ]
  },
  {
   "cell_type": "code",
   "execution_count": 4,
   "id": "20faa0bf",
   "metadata": {},
   "outputs": [],
   "source": [
    "ws = wb.active"
   ]
  },
  {
   "cell_type": "code",
   "execution_count": 5,
   "id": "abc40e5c",
   "metadata": {},
   "outputs": [],
   "source": [
    "statue_data=[[\"Statue Name\",\"Location\",\"Height\"],[\"Statue of Unity\",\"Gujrat,India\",597],[\"Spring Temple Buddha\",\"Lushan,China\",420],[\"Statue of Liberty\",\"New York,US\",151]]"
   ]
  },
  {
   "cell_type": "code",
   "execution_count": 6,
   "id": "acbc3486",
   "metadata": {},
   "outputs": [],
   "source": [
    "for row in statue_data:\n",
    "    ws.append(row)"
   ]
  },
  {
   "cell_type": "code",
   "execution_count": 7,
   "id": "4e394ff8",
   "metadata": {},
   "outputs": [],
   "source": [
    "wb.save(\"C:\\\\Users\\\\adity\\\\Desktop\\\\Statue\\\\sample.xlsx\")"
   ]
  },
  {
   "cell_type": "code",
   "execution_count": 9,
   "id": "8ef59d97",
   "metadata": {},
   "outputs": [],
   "source": [
    "from openpyxl.chart import BarChart, Series, Reference"
   ]
  },
  {
   "cell_type": "code",
   "execution_count": 11,
   "id": "14b75ca8",
   "metadata": {},
   "outputs": [],
   "source": [
    "chart = BarChart()\n",
    "chart.type=\"col\"\n",
    "chart.title=\"Statue Height\"\n",
    "chart.y_axis.title=\"Height (ft)\"\n",
    "chart.x_axis.title=\"Statue Name\"\n",
    "chart.legend= None"
   ]
  },
  {
   "cell_type": "code",
   "execution_count": 12,
   "id": "1b489568",
   "metadata": {},
   "outputs": [],
   "source": [
    "data = Reference(ws,min_col=3,min_row=2,max_row=4,max_col=3)\n",
    "categories = Reference(ws,min_col=1,min_row=2,max_row=4,max_col=1)"
   ]
  },
  {
   "cell_type": "code",
   "execution_count": 13,
   "id": "adbb5e21",
   "metadata": {},
   "outputs": [],
   "source": [
    "chart.add_data(data)\n",
    "chart.set_categories(categories)"
   ]
  },
  {
   "cell_type": "code",
   "execution_count": 14,
   "id": "f4994ed3",
   "metadata": {},
   "outputs": [],
   "source": [
    "ws.add_chart(chart,\"E1\")"
   ]
  },
  {
   "cell_type": "code",
   "execution_count": 37,
   "id": "a4ed6bf4",
   "metadata": {},
   "outputs": [],
   "source": [
    "wb.save(\"C:\\\\Users\\\\adity\\\\Desktop\\\\Statue\\\\sample.xlsx\")"
   ]
  },
  {
   "cell_type": "code",
   "execution_count": 24,
   "id": "f551fc79",
   "metadata": {},
   "outputs": [],
   "source": [
    "from openpyxl.styles import Font"
   ]
  },
  {
   "cell_type": "code",
   "execution_count": 29,
   "id": "20e4a350",
   "metadata": {},
   "outputs": [],
   "source": [
    "ft = Font(bold=True,name=\"Ariel\",size=12,italic=True,color=\"00FFFF\")"
   ]
  },
  {
   "cell_type": "code",
   "execution_count": 31,
   "id": "21a70f1d",
   "metadata": {},
   "outputs": [],
   "source": [
    "for col in ws[\"A1:C1\"]:\n",
    "    for cell in col:\n",
    "        cell.font=ft"
   ]
  },
  {
   "cell_type": "code",
   "execution_count": 33,
   "id": "9daa8037",
   "metadata": {},
   "outputs": [],
   "source": [
    "wb.save(\"C:\\\\Users\\\\adity\\\\Desktop\\\\Statue\\\\sample.xlsx\")"
   ]
  },
  {
   "cell_type": "code",
   "execution_count": 35,
   "id": "7845094a",
   "metadata": {},
   "outputs": [],
   "source": [
    "from openpyxl.styles import PatternFill\n",
    "fill = PatternFill(fill_type=\"solid\",start_color=\"FFFF00\",end_color=\"FFFF00\")"
   ]
  },
  {
   "cell_type": "code",
   "execution_count": 36,
   "id": "409b5dc2",
   "metadata": {},
   "outputs": [],
   "source": [
    "for col in ws[\"A1:C1\"]:\n",
    "    for cell in col:\n",
    "        cell.fill=fill"
   ]
  },
  {
   "cell_type": "code",
   "execution_count": 57,
   "id": "d47133d1",
   "metadata": {},
   "outputs": [],
   "source": [
    "from openpyxl import load_workbook"
   ]
  },
  {
   "cell_type": "code",
   "execution_count": 61,
   "id": "0cd8f2a7",
   "metadata": {},
   "outputs": [],
   "source": [
    "wb_new= load_workbook(\"C:\\\\Users\\\\adity\\\\Desktop\\\\car data 2.xlsx\")"
   ]
  },
  {
   "cell_type": "code",
   "execution_count": 62,
   "id": "e5504ec7",
   "metadata": {},
   "outputs": [],
   "source": [
    "ws_new = wb_new[\"car data 2\"]"
   ]
  },
  {
   "cell_type": "code",
   "execution_count": 63,
   "id": "1c6d27a3",
   "metadata": {},
   "outputs": [
    {
     "name": "stdout",
     "output_type": "stream",
     "text": [
      "Cell Value ->Maruti Suzuki\n",
      "Cell Value ->Maruti Alto 800\n",
      "Cell Value ->354000\n",
      "Cell Value ->Rs 3,45,829\n",
      "Cell Value ->Rs 7,483\n",
      "Cell Value ->0.098\n",
      "Cell Value ->Rs 7,483\n",
      "Cell Value ->None\n",
      "Cell Value ->Hyundai\n",
      "Cell Value ->Hyundai Santro\n",
      "Cell Value ->477000\n",
      "Cell Value ->Rs 3,95,829\n",
      "Cell Value ->Rs 7,918\n",
      "Cell Value ->0.098\n",
      "Cell Value ->Rs 7,918\n",
      "Cell Value ->Rs 65.983\n",
      "Cell Value ->Tata Motors\n",
      "Cell Value ->Tata Tiago\n",
      "Cell Value ->554000\n",
      "Cell Value ->Rs 5,50,000\n",
      "Cell Value ->Rs 11,634\n",
      "Cell Value ->0.099\n",
      "Cell Value ->Rs 11,634\n",
      "Cell Value ->Rs 95.9805\n",
      "Cell Value ->Mahindra & Mahindra\n",
      "Cell Value ->Mahindra KUV100 NXT\n",
      "Cell Value ->696575\n",
      "Cell Value ->Rs 6,26,575\n",
      "Cell Value ->Rs 13,251\n",
      "Cell Value ->0.098\n",
      "Cell Value ->Rs 13,251\n",
      "Cell Value ->None\n",
      "Cell Value ->Kia\n",
      "Cell Value ->Kia Sonet\n",
      "Cell Value ->876039\n",
      "Cell Value ->Rs 7,88,039\n",
      "Cell Value ->Rs 16,666\n",
      "Cell Value ->0.0989\n",
      "Cell Value ->Rs 16,666\n",
      "Cell Value ->Rs 137.355\n",
      "Cell Value ->Toyota\n",
      "Cell Value ->Toyota Glanza\n",
      "Cell Value ->753904\n",
      "Cell Value ->Rs 6,78,904\n",
      "Cell Value ->Rs 14,358\n",
      "Cell Value ->0.099\n",
      "Cell Value ->Rs 14,358\n",
      "Cell Value ->Rs 118.453\n",
      "Cell Value ->Honda\n",
      "Cell Value ->Honda Amaze\n",
      "Cell Value ->793604\n",
      "Cell Value ->Rs 7,14,604\n",
      "Cell Value ->Rs 15,113\n",
      "Cell Value ->0.098\n",
      "Cell Value ->Rs 15,113\n",
      "Cell Value ->Rs 123.422\n",
      "Cell Value ->Renault\n",
      "Cell Value ->Renault Kwid\n",
      "Cell Value ->512632\n",
      "Cell Value ->Rs 5,85,780\n",
      "Cell Value ->Rs 9,763\n",
      "Cell Value ->0.099\n",
      "Cell Value ->Rs 9,763\n",
      "Cell Value ->Rs 80.544\n",
      "Cell Value ->Skoda\n",
      "Cell Value ->Skoda Rapid TSI Rider\n",
      "Cell Value ->780000\n",
      "Cell Value ->Rs 6,21,665\n",
      "Cell Value ->Rs 13,056\n",
      "Cell Value ->0.095\n",
      "Cell Value ->Rs 13,056\n",
      "Cell Value ->Rs 103.36\n",
      "Cell Value ->MG\n",
      "Cell Value ->MG Astor\n",
      "Cell Value ->1218961\n",
      "Cell Value ->Rs 10,96,961\n",
      "Cell Value ->Rs 23,199\n",
      "Cell Value ->0.098\n",
      "Cell Value ->Rs 23,199\n",
      "Cell Value ->None\n"
     ]
    }
   ],
   "source": [
    "for row in ws_new[\"A2:H11\"]:\n",
    "                  for cell in row:\n",
    "                      print(\"Cell Value ->\" + str(cell.value));"
   ]
  },
  {
   "cell_type": "code",
   "execution_count": 64,
   "id": "09b85f64",
   "metadata": {},
   "outputs": [],
   "source": [
    "fill = PatternFill(fill_type=\"solid\",start_color=\"FF0000\",end_color=\"FF0000\")\n",
    "for row in ws_new[\"A2:H11\"]:\n",
    "                  for cell in row:\n",
    "                      if cell.value is None:\n",
    "                        cell.fill=fill"
   ]
  },
  {
   "cell_type": "code",
   "execution_count": 81,
   "id": "8fd53a6b",
   "metadata": {},
   "outputs": [],
   "source": [
    "wb_new.save(\"C:\\\\Users\\\\adity\\\\Desktop\\\\Statue\\\\sample2.xlsx\")"
   ]
  },
  {
   "cell_type": "code",
   "execution_count": 80,
   "id": "2be828fd",
   "metadata": {},
   "outputs": [],
   "source": [
    "ws_new.insert_rows(5)"
   ]
  },
  {
   "cell_type": "code",
   "execution_count": 70,
   "id": "f8901c5b",
   "metadata": {},
   "outputs": [],
   "source": [
    "ws_new.delete_rows(5)"
   ]
  },
  {
   "cell_type": "code",
   "execution_count": 72,
   "id": "4ecdbccf",
   "metadata": {},
   "outputs": [],
   "source": [
    "ws_new.insert_cols(5)"
   ]
  },
  {
   "cell_type": "code",
   "execution_count": 74,
   "id": "0428356e",
   "metadata": {},
   "outputs": [],
   "source": [
    "ws_new.delete_cols(5)"
   ]
  },
  {
   "cell_type": "code",
   "execution_count": 76,
   "id": "35302533",
   "metadata": {},
   "outputs": [],
   "source": [
    "ws_new.merge_cells(\"A6:A7\")"
   ]
  },
  {
   "cell_type": "code",
   "execution_count": 78,
   "id": "deba16bc",
   "metadata": {},
   "outputs": [],
   "source": [
    "ws_new.unmerge_cells(\"A6:A7\")"
   ]
  },
  {
   "cell_type": "code",
   "execution_count": null,
   "id": "2842343b",
   "metadata": {},
   "outputs": [],
   "source": []
  }
 ],
 "metadata": {
  "kernelspec": {
   "display_name": "Python 3 (ipykernel)",
   "language": "python",
   "name": "python3"
  },
  "language_info": {
   "codemirror_mode": {
    "name": "ipython",
    "version": 3
   },
   "file_extension": ".py",
   "mimetype": "text/x-python",
   "name": "python",
   "nbconvert_exporter": "python",
   "pygments_lexer": "ipython3",
   "version": "3.10.9"
  }
 },
 "nbformat": 4,
 "nbformat_minor": 5
}
