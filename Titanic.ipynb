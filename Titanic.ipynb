{
 "cells": [
  {
   "cell_type": "code",
   "execution_count": 6,
   "id": "b8cac1d5",
   "metadata": {},
   "outputs": [],
   "source": [
    "import pandas as pd\n",
    "titanic_df = pd.read_csv(\"C:\\\\Users\\\\adity\\\\Desktop\\\\titanic3.csv\") "
   ]
  },
  {
   "cell_type": "code",
   "execution_count": 7,
   "id": "d1248276",
   "metadata": {},
   "outputs": [
    {
     "name": "stdout",
     "output_type": "stream",
     "text": [
      "   pclass  survived                                             name     sex  \\\n",
      "0     1.0       1.0                    Allen, Miss. Elisabeth Walton  female   \n",
      "1     1.0       1.0                   Allison, Master. Hudson Trevor    male   \n",
      "2     1.0       0.0                     Allison, Miss. Helen Loraine  female   \n",
      "3     1.0       0.0             Allison, Mr. Hudson Joshua Creighton    male   \n",
      "4     1.0       0.0  Allison, Mrs. Hudson J C (Bessie Waldo Daniels)  female   \n",
      "\n",
      "       age  sibsp  parch  ticket      fare    cabin embarked boat   body  \\\n",
      "0  29.0000    0.0    0.0   24160  211.3375       B5        S    2    NaN   \n",
      "1   0.9167    1.0    2.0  113781  151.5500  C22 C26        S   11    NaN   \n",
      "2   2.0000    1.0    2.0  113781  151.5500  C22 C26        S  NaN    NaN   \n",
      "3  30.0000    1.0    2.0  113781  151.5500  C22 C26        S  NaN  135.0   \n",
      "4  25.0000    1.0    2.0  113781  151.5500  C22 C26        S  NaN    NaN   \n",
      "\n",
      "                         home.dest  \n",
      "0                     St Louis, MO  \n",
      "1  Montreal, PQ / Chesterville, ON  \n",
      "2  Montreal, PQ / Chesterville, ON  \n",
      "3  Montreal, PQ / Chesterville, ON  \n",
      "4  Montreal, PQ / Chesterville, ON  \n"
     ]
    }
   ],
   "source": [
    "print (titanic_df.head()) #first 5 rows using head() method"
   ]
  },
  {
   "cell_type": "code",
   "execution_count": 19,
   "id": "07be75ce",
   "metadata": {},
   "outputs": [
    {
     "name": "stdout",
     "output_type": "stream",
     "text": [
      "0       29.0000\n",
      "1        0.9167\n",
      "2        2.0000\n",
      "3       30.0000\n",
      "4       25.0000\n",
      "         ...   \n",
      "1305        NaN\n",
      "1306    26.5000\n",
      "1307    27.0000\n",
      "1308    29.0000\n",
      "1309        NaN\n",
      "Name: age, Length: 1310, dtype: float64\n",
      "<class 'pandas.core.series.Series'>\n"
     ]
    }
   ],
   "source": [
    "ages = titanic_df[\"age\"]\n",
    "print(ages)\n",
    "print(type(ages))"
   ]
  },
  {
   "cell_type": "code",
   "execution_count": 17,
   "id": "d50730af",
   "metadata": {},
   "outputs": [
    {
     "name": "stdout",
     "output_type": "stream",
     "text": [
      "       age     sex\n",
      "0  29.0000  female\n",
      "1   0.9167    male\n",
      "2   2.0000  female\n",
      "3  30.0000    male\n",
      "4  25.0000  female\n",
      "<class 'pandas.core.frame.DataFrame'>\n",
      "(1310, 2)\n"
     ]
    }
   ],
   "source": [
    "age_sex =titanic_df[[\"age\",\"sex\"]]\n",
    "print(age_sex.head())\n",
    "\n",
    "print(type(age_sex))\n",
    "\n",
    "print(age_sex.shape)"
   ]
  },
  {
   "cell_type": "code",
   "execution_count": 22,
   "id": "33814966",
   "metadata": {},
   "outputs": [
    {
     "name": "stdout",
     "output_type": "stream",
     "text": [
      "      pclass  survived                                             name  \\\n",
      "0        1.0       1.0                    Allen, Miss. Elisabeth Walton   \n",
      "1        1.0       1.0                   Allison, Master. Hudson Trevor   \n",
      "2        1.0       0.0                     Allison, Miss. Helen Loraine   \n",
      "3        1.0       0.0             Allison, Mr. Hudson Joshua Creighton   \n",
      "4        1.0       0.0  Allison, Mrs. Hudson J C (Bessie Waldo Daniels)   \n",
      "...      ...       ...                                              ...   \n",
      "1300     3.0       1.0          Yasbeck, Mrs. Antoni (Selini Alexander)   \n",
      "1304     3.0       0.0                             Zabour, Miss. Hileni   \n",
      "1306     3.0       0.0                        Zakarian, Mr. Mapriededer   \n",
      "1307     3.0       0.0                              Zakarian, Mr. Ortin   \n",
      "1308     3.0       0.0                               Zimmerman, Mr. Leo   \n",
      "\n",
      "         sex      age  sibsp  parch  ticket      fare    cabin embarked boat  \\\n",
      "0     female  29.0000    0.0    0.0   24160  211.3375       B5        S    2   \n",
      "1       male   0.9167    1.0    2.0  113781  151.5500  C22 C26        S   11   \n",
      "2     female   2.0000    1.0    2.0  113781  151.5500  C22 C26        S  NaN   \n",
      "3       male  30.0000    1.0    2.0  113781  151.5500  C22 C26        S  NaN   \n",
      "4     female  25.0000    1.0    2.0  113781  151.5500  C22 C26        S  NaN   \n",
      "...      ...      ...    ...    ...     ...       ...      ...      ...  ...   \n",
      "1300  female  15.0000    1.0    0.0    2659   14.4542      NaN        C  NaN   \n",
      "1304  female  14.5000    1.0    0.0    2665   14.4542      NaN        C  NaN   \n",
      "1306    male  26.5000    0.0    0.0    2656    7.2250      NaN        C  NaN   \n",
      "1307    male  27.0000    0.0    0.0    2670    7.2250      NaN        C  NaN   \n",
      "1308    male  29.0000    0.0    0.0  315082    7.8750      NaN        S  NaN   \n",
      "\n",
      "       body                        home.dest  \n",
      "0       NaN                     St Louis, MO  \n",
      "1       NaN  Montreal, PQ / Chesterville, ON  \n",
      "2       NaN  Montreal, PQ / Chesterville, ON  \n",
      "3     135.0  Montreal, PQ / Chesterville, ON  \n",
      "4       NaN  Montreal, PQ / Chesterville, ON  \n",
      "...     ...                              ...  \n",
      "1300    NaN                              NaN  \n",
      "1304  328.0                              NaN  \n",
      "1306  304.0                              NaN  \n",
      "1307    NaN                              NaN  \n",
      "1308    NaN                              NaN  \n",
      "\n",
      "[701 rows x 14 columns]\n"
     ]
    }
   ],
   "source": [
    "age_less_35=titanic_df[titanic_df[\"age\"]<35] #the names of passengers younger than 35 years (2. Ans)\n",
    "print(age_less_35)"
   ]
  },
  {
   "cell_type": "code",
   "execution_count": 25,
   "id": "95fab7de",
   "metadata": {},
   "outputs": [
    {
     "name": "stdout",
     "output_type": "stream",
     "text": [
      "      pclass  survived                                   name     sex   age  \\\n",
      "323      2.0       0.0                    Abelson, Mr. Samuel    male  30.0   \n",
      "324      2.0       1.0  Abelson, Mrs. Samuel (Hannah Wizosky)  female  28.0   \n",
      "325      2.0       0.0         Aldworth, Mr. Charles Augustus    male  30.0   \n",
      "326      2.0       0.0             Andrew, Mr. Edgardo Samuel    male  18.0   \n",
      "327      2.0       0.0               Andrew, Mr. Frank Thomas    male  25.0   \n",
      "...      ...       ...                                    ...     ...   ...   \n",
      "1304     3.0       0.0                   Zabour, Miss. Hileni  female  14.5   \n",
      "1305     3.0       0.0                  Zabour, Miss. Thamine  female   NaN   \n",
      "1306     3.0       0.0              Zakarian, Mr. Mapriededer    male  26.5   \n",
      "1307     3.0       0.0                    Zakarian, Mr. Ortin    male  27.0   \n",
      "1308     3.0       0.0                     Zimmerman, Mr. Leo    male  29.0   \n",
      "\n",
      "      sibsp  parch      ticket     fare cabin embarked boat   body  \\\n",
      "323     1.0    0.0   P/PP 3381  24.0000   NaN        C  NaN    NaN   \n",
      "324     1.0    0.0   P/PP 3381  24.0000   NaN        C   10    NaN   \n",
      "325     0.0    0.0      248744  13.0000   NaN        S  NaN    NaN   \n",
      "326     0.0    0.0      231945  11.5000   NaN        S  NaN    NaN   \n",
      "327     0.0    0.0  C.A. 34050  10.5000   NaN        S  NaN    NaN   \n",
      "...     ...    ...         ...      ...   ...      ...  ...    ...   \n",
      "1304    1.0    0.0        2665  14.4542   NaN        C  NaN  328.0   \n",
      "1305    1.0    0.0        2665  14.4542   NaN        C  NaN    NaN   \n",
      "1306    0.0    0.0        2656   7.2250   NaN        C  NaN  304.0   \n",
      "1307    0.0    0.0        2670   7.2250   NaN        C  NaN    NaN   \n",
      "1308    0.0    0.0      315082   7.8750   NaN        S  NaN    NaN   \n",
      "\n",
      "                                     home.dest  \n",
      "323                        Russia New York, NY  \n",
      "324                        Russia New York, NY  \n",
      "325                         Bryn Mawr, PA, USA  \n",
      "326   Buenos Aires, Argentina / New Jersey, NJ  \n",
      "327             Cornwall, England Houghton, MI  \n",
      "...                                        ...  \n",
      "1304                                       NaN  \n",
      "1305                                       NaN  \n",
      "1306                                       NaN  \n",
      "1307                                       NaN  \n",
      "1308                                       NaN  \n",
      "\n",
      "[986 rows x 14 columns]\n"
     ]
    }
   ],
   "source": [
    "class_2_3=titanic_df[titanic_df[\"pclass\"].isin([2,3])] #isin() to filter the 2nd and 3rd class passengers\n",
    "print(class_2_3)"
   ]
  },
  {
   "cell_type": "code",
   "execution_count": 27,
   "id": "8ab85331",
   "metadata": {},
   "outputs": [
    {
     "name": "stdout",
     "output_type": "stream",
     "text": [
      "      pclass  survived                                             name  \\\n",
      "0        1.0       1.0                    Allen, Miss. Elisabeth Walton   \n",
      "1        1.0       1.0                   Allison, Master. Hudson Trevor   \n",
      "2        1.0       0.0                     Allison, Miss. Helen Loraine   \n",
      "3        1.0       0.0             Allison, Mr. Hudson Joshua Creighton   \n",
      "4        1.0       0.0  Allison, Mrs. Hudson J C (Bessie Waldo Daniels)   \n",
      "...      ...       ...                                              ...   \n",
      "1301     3.0       0.0                             Youseff, Mr. Gerious   \n",
      "1304     3.0       0.0                             Zabour, Miss. Hileni   \n",
      "1306     3.0       0.0                        Zakarian, Mr. Mapriededer   \n",
      "1307     3.0       0.0                              Zakarian, Mr. Ortin   \n",
      "1308     3.0       0.0                               Zimmerman, Mr. Leo   \n",
      "\n",
      "         sex      age  sibsp  parch  ticket      fare    cabin embarked boat  \\\n",
      "0     female  29.0000    0.0    0.0   24160  211.3375       B5        S    2   \n",
      "1       male   0.9167    1.0    2.0  113781  151.5500  C22 C26        S   11   \n",
      "2     female   2.0000    1.0    2.0  113781  151.5500  C22 C26        S  NaN   \n",
      "3       male  30.0000    1.0    2.0  113781  151.5500  C22 C26        S  NaN   \n",
      "4     female  25.0000    1.0    2.0  113781  151.5500  C22 C26        S  NaN   \n",
      "...      ...      ...    ...    ...     ...       ...      ...      ...  ...   \n",
      "1301    male  45.5000    0.0    0.0    2628    7.2250      NaN        C  NaN   \n",
      "1304  female  14.5000    1.0    0.0    2665   14.4542      NaN        C  NaN   \n",
      "1306    male  26.5000    0.0    0.0    2656    7.2250      NaN        C  NaN   \n",
      "1307    male  27.0000    0.0    0.0    2670    7.2250      NaN        C  NaN   \n",
      "1308    male  29.0000    0.0    0.0  315082    7.8750      NaN        S  NaN   \n",
      "\n",
      "       body                        home.dest  \n",
      "0       NaN                     St Louis, MO  \n",
      "1       NaN  Montreal, PQ / Chesterville, ON  \n",
      "2       NaN  Montreal, PQ / Chesterville, ON  \n",
      "3     135.0  Montreal, PQ / Chesterville, ON  \n",
      "4       NaN  Montreal, PQ / Chesterville, ON  \n",
      "...     ...                              ...  \n",
      "1301  312.0                              NaN  \n",
      "1304  328.0                              NaN  \n",
      "1306  304.0                              NaN  \n",
      "1307    NaN                              NaN  \n",
      "1308    NaN                              NaN  \n",
      "\n",
      "[1046 rows x 14 columns]\n"
     ]
    }
   ],
   "source": [
    "age_not_na=titanic_df[titanic_df[\"age\"].notna()] #known not NA datas\n",
    "print(age_not_na)"
   ]
  },
  {
   "cell_type": "code",
   "execution_count": 30,
   "id": "2c9296eb",
   "metadata": {},
   "outputs": [
    {
     "name": "stdout",
     "output_type": "stream",
     "text": [
      "      pclass  survived                                               name  \\\n",
      "15       1.0       0.0                                Baumann, Mr. John D   \n",
      "37       1.0       1.0      Bradley, Mr. George (\"George Arthur Brayton\")   \n",
      "40       1.0       0.0                          Brewe, Dr. Arthur Jackson   \n",
      "46       1.0       0.0                              Cairns, Mr. Alexander   \n",
      "59       1.0       1.0  Cassebeer, Mrs. Henry Arthur Jr (Eleanor Genev...   \n",
      "...      ...       ...                                                ...   \n",
      "1297     3.0       0.0                             Wiseman, Mr. Phillippe   \n",
      "1302     3.0       0.0                                  Yousif, Mr. Wazli   \n",
      "1303     3.0       0.0                              Yousseff, Mr. Gerious   \n",
      "1305     3.0       0.0                              Zabour, Miss. Thamine   \n",
      "1309     NaN       NaN                                                NaN   \n",
      "\n",
      "         sex  age  sibsp  parch      ticket     fare cabin embarked boat  \\\n",
      "15      male  NaN    0.0    0.0    PC 17318  25.9250   NaN        S  NaN   \n",
      "37      male  NaN    0.0    0.0      111427  26.5500   NaN        S    9   \n",
      "40      male  NaN    0.0    0.0      112379  39.6000   NaN        C  NaN   \n",
      "46      male  NaN    0.0    0.0      113798  31.0000   NaN        S  NaN   \n",
      "59    female  NaN    0.0    0.0       17770  27.7208   NaN        C    5   \n",
      "...      ...  ...    ...    ...         ...      ...   ...      ...  ...   \n",
      "1297    male  NaN    0.0    0.0  A/4. 34244   7.2500   NaN        S  NaN   \n",
      "1302    male  NaN    0.0    0.0        2647   7.2250   NaN        C  NaN   \n",
      "1303    male  NaN    0.0    0.0        2627  14.4583   NaN        C  NaN   \n",
      "1305  female  NaN    1.0    0.0        2665  14.4542   NaN        C  NaN   \n",
      "1309     NaN  NaN    NaN    NaN         NaN      NaN   NaN      NaN  NaN   \n",
      "\n",
      "      body         home.dest  \n",
      "15     NaN      New York, NY  \n",
      "37     NaN   Los Angeles, CA  \n",
      "40     NaN  Philadelphia, PA  \n",
      "46     NaN               NaN  \n",
      "59     NaN      New York, NY  \n",
      "...    ...               ...  \n",
      "1297   NaN               NaN  \n",
      "1302   NaN               NaN  \n",
      "1303   NaN               NaN  \n",
      "1305   NaN               NaN  \n",
      "1309   NaN               NaN  \n",
      "\n",
      "[264 rows x 14 columns]\n"
     ]
    }
   ],
   "source": [
    "age_unknown=titanic_df[titanic_df[\"age\"].isna()] #not known ages NA datas\n",
    "print(age_unknown)"
   ]
  },
  {
   "cell_type": "code",
   "execution_count": 34,
   "id": "6c0cca7e",
   "metadata": {},
   "outputs": [
    {
     "name": "stdout",
     "output_type": "stream",
     "text": [
      "       sex   age  sibsp\n",
      "10    male  47.0    1.0\n",
      "11  female  18.0    1.0\n",
      "12  female  24.0    0.0\n",
      "13  female  26.0    0.0\n",
      "14    male  80.0    0.0\n",
      "15    male   NaN    0.0\n",
      "16    male  24.0    0.0\n",
      "17  female  50.0    0.0\n",
      "18  female  32.0    0.0\n",
      "19    male  36.0    0.0\n",
      "20    male  37.0    1.0\n",
      "21  female  47.0    1.0\n",
      "22    male  26.0    0.0\n",
      "23  female  42.0    0.0\n",
      "24  female  29.0    0.0\n",
      "25    male  25.0    0.0\n"
     ]
    }
   ],
   "source": [
    "index_columns=titanic_df.iloc[10:26, 3:6]  #Printing the rows from index 10 to 25 and columns 3 to 5 (3. Ans)\n",
    "print(index_columns)"
   ]
  },
  {
   "cell_type": "code",
   "execution_count": 39,
   "id": "8b3b028d",
   "metadata": {},
   "outputs": [
    {
     "data": {
      "text/html": [
       "<div>\n",
       "<style scoped>\n",
       "    .dataframe tbody tr th:only-of-type {\n",
       "        vertical-align: middle;\n",
       "    }\n",
       "\n",
       "    .dataframe tbody tr th {\n",
       "        vertical-align: top;\n",
       "    }\n",
       "\n",
       "    .dataframe thead th {\n",
       "        text-align: right;\n",
       "    }\n",
       "</style>\n",
       "<table border=\"1\" class=\"dataframe\">\n",
       "  <thead>\n",
       "    <tr style=\"text-align: right;\">\n",
       "      <th></th>\n",
       "      <th>fare</th>\n",
       "    </tr>\n",
       "    <tr>\n",
       "      <th>sex</th>\n",
       "      <th></th>\n",
       "    </tr>\n",
       "  </thead>\n",
       "  <tbody>\n",
       "    <tr>\n",
       "      <th>female</th>\n",
       "      <td>46.198097</td>\n",
       "    </tr>\n",
       "    <tr>\n",
       "      <th>male</th>\n",
       "      <td>26.154601</td>\n",
       "    </tr>\n",
       "  </tbody>\n",
       "</table>\n",
       "</div>"
      ],
      "text/plain": [
       "             fare\n",
       "sex              \n",
       "female  46.198097\n",
       "male    26.154601"
      ]
     },
     "execution_count": 39,
     "metadata": {},
     "output_type": "execute_result"
    }
   ],
   "source": [
    "titanic_df[[\"sex\", \"fare\"]].groupby(\"sex\").mean() #the mean ticket fare price for each of the sex using groupby() (4. Ans)"
   ]
  },
  {
   "cell_type": "code",
   "execution_count": 40,
   "id": "ea99c73a",
   "metadata": {},
   "outputs": [
    {
     "data": {
      "text/html": [
       "<div>\n",
       "<style scoped>\n",
       "    .dataframe tbody tr th:only-of-type {\n",
       "        vertical-align: middle;\n",
       "    }\n",
       "\n",
       "    .dataframe tbody tr th {\n",
       "        vertical-align: top;\n",
       "    }\n",
       "\n",
       "    .dataframe thead th {\n",
       "        text-align: right;\n",
       "    }\n",
       "</style>\n",
       "<table border=\"1\" class=\"dataframe\">\n",
       "  <thead>\n",
       "    <tr style=\"text-align: right;\">\n",
       "      <th></th>\n",
       "      <th>fare</th>\n",
       "    </tr>\n",
       "    <tr>\n",
       "      <th>pclass</th>\n",
       "      <th></th>\n",
       "    </tr>\n",
       "  </thead>\n",
       "  <tbody>\n",
       "    <tr>\n",
       "      <th>1.0</th>\n",
       "      <td>87.508992</td>\n",
       "    </tr>\n",
       "    <tr>\n",
       "      <th>2.0</th>\n",
       "      <td>21.179196</td>\n",
       "    </tr>\n",
       "    <tr>\n",
       "      <th>3.0</th>\n",
       "      <td>13.302889</td>\n",
       "    </tr>\n",
       "  </tbody>\n",
       "</table>\n",
       "</div>"
      ],
      "text/plain": [
       "             fare\n",
       "pclass           \n",
       "1.0     87.508992\n",
       "2.0     21.179196\n",
       "3.0     13.302889"
      ]
     },
     "execution_count": 40,
     "metadata": {},
     "output_type": "execute_result"
    }
   ],
   "source": [
    "titanic_df[[\"pclass\", \"fare\"]].groupby(\"pclass\").mean()  # the mean ticket fare price for the cabin class combinations (4. Ans)"
   ]
  },
  {
   "cell_type": "code",
   "execution_count": 43,
   "id": "9a3f2deb",
   "metadata": {},
   "outputs": [
    {
     "data": {
      "text/html": [
       "<div>\n",
       "<style scoped>\n",
       "    .dataframe tbody tr th:only-of-type {\n",
       "        vertical-align: middle;\n",
       "    }\n",
       "\n",
       "    .dataframe tbody tr th {\n",
       "        vertical-align: top;\n",
       "    }\n",
       "\n",
       "    .dataframe thead th {\n",
       "        text-align: right;\n",
       "    }\n",
       "</style>\n",
       "<table border=\"1\" class=\"dataframe\">\n",
       "  <thead>\n",
       "    <tr style=\"text-align: right;\">\n",
       "      <th></th>\n",
       "      <th>age</th>\n",
       "      <th>fare</th>\n",
       "    </tr>\n",
       "  </thead>\n",
       "  <tbody>\n",
       "    <tr>\n",
       "      <th>min</th>\n",
       "      <td>0.166700</td>\n",
       "      <td>0.000000</td>\n",
       "    </tr>\n",
       "    <tr>\n",
       "      <th>max</th>\n",
       "      <td>80.000000</td>\n",
       "      <td>512.329200</td>\n",
       "    </tr>\n",
       "    <tr>\n",
       "      <th>median</th>\n",
       "      <td>28.000000</td>\n",
       "      <td>14.454200</td>\n",
       "    </tr>\n",
       "    <tr>\n",
       "      <th>skew</th>\n",
       "      <td>0.407672</td>\n",
       "      <td>NaN</td>\n",
       "    </tr>\n",
       "    <tr>\n",
       "      <th>mean</th>\n",
       "      <td>NaN</td>\n",
       "      <td>33.295479</td>\n",
       "    </tr>\n",
       "  </tbody>\n",
       "</table>\n",
       "</div>"
      ],
      "text/plain": [
       "              age        fare\n",
       "min      0.166700    0.000000\n",
       "max     80.000000  512.329200\n",
       "median  28.000000   14.454200\n",
       "skew     0.407672         NaN\n",
       "mean          NaN   33.295479"
      ]
     },
     "execution_count": 43,
     "metadata": {},
     "output_type": "execute_result"
    }
   ],
   "source": [
    "titanic_df.agg(\n",
    "    {\n",
    "        \"age\": [\"min\", \"max\", \"median\", \"skew\"],\n",
    "        \"fare\": [\"min\", \"max\", \"median\", \"mean\"],\n",
    "    }\n",
    ")\n"
   ]
  },
  {
   "cell_type": "code",
   "execution_count": null,
   "id": "7b54a3a8",
   "metadata": {},
   "outputs": [],
   "source": []
  }
 ],
 "metadata": {
  "kernelspec": {
   "display_name": "Python 3 (ipykernel)",
   "language": "python",
   "name": "python3"
  },
  "language_info": {
   "codemirror_mode": {
    "name": "ipython",
    "version": 3
   },
   "file_extension": ".py",
   "mimetype": "text/x-python",
   "name": "python",
   "nbconvert_exporter": "python",
   "pygments_lexer": "ipython3",
   "version": "3.10.9"
  }
 },
 "nbformat": 4,
 "nbformat_minor": 5
}
