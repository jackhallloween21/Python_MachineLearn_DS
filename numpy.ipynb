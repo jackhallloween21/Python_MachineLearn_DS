{
 "cells": [
  {
   "cell_type": "markdown",
   "id": "c8d59e67",
   "metadata": {},
   "source": [
    "# Internship Task 4"
   ]
  },
  {
   "cell_type": "code",
   "execution_count": 1,
   "id": "346004dd",
   "metadata": {},
   "outputs": [],
   "source": [
    "import numpy as np"
   ]
  },
  {
   "cell_type": "markdown",
   "id": "1134904c",
   "metadata": {},
   "source": [
    "1.Create a NumPy array with the following values: [1, 2, 3, 4, 5]. "
   ]
  },
  {
   "cell_type": "code",
   "execution_count": 66,
   "id": "67e89f0b",
   "metadata": {},
   "outputs": [],
   "source": [
    "a = np.array([0,1,2,3,4,5]) #added 0 to change size to 6, as getting ValueError: cannot reshape array of size 5 into shape (2,3)"
   ]
  },
  {
   "cell_type": "markdown",
   "id": "7865c6ca",
   "metadata": {},
   "source": [
    "2.Create a NumPy array with the following values: [1, 2, 3, 4, 5]."
   ]
  },
  {
   "cell_type": "code",
   "execution_count": 37,
   "id": "f315ac84",
   "metadata": {
    "scrolled": true
   },
   "outputs": [
    {
     "name": "stdout",
     "output_type": "stream",
     "text": [
      "(6,)\n"
     ]
    }
   ],
   "source": [
    "print(a.shape)"
   ]
  },
  {
   "cell_type": "markdown",
   "id": "3620b516",
   "metadata": {
    "scrolled": true
   },
   "source": [
    "3.Reshape the array into a 2D array with 2 rows and 3 columns. Not possible as size must be 6."
   ]
  },
  {
   "cell_type": "code",
   "execution_count": 38,
   "id": "60707c91",
   "metadata": {},
   "outputs": [
    {
     "name": "stdout",
     "output_type": "stream",
     "text": [
      "[[0 1 2]\n",
      " [3 4 5]]\n"
     ]
    }
   ],
   "source": [
    "a1 = a.reshape(2, 3)\n",
    "print(a1)"
   ]
  },
  {
   "cell_type": "markdown",
   "id": "c9865017",
   "metadata": {},
   "source": [
    "4.Print the shape of the new array."
   ]
  },
  {
   "cell_type": "code",
   "execution_count": 62,
   "id": "29790c81",
   "metadata": {},
   "outputs": [
    {
     "name": "stdout",
     "output_type": "stream",
     "text": [
      "(2, 3)\n"
     ]
    }
   ],
   "source": [
    "print(a1.shape)"
   ]
  },
  {
   "cell_type": "markdown",
   "id": "62954c89",
   "metadata": {},
   "source": [
    "5. Create a second NumPy array with the following values: [6, 7, 8, 9, 10]."
   ]
  },
  {
   "cell_type": "code",
   "execution_count": 67,
   "id": "aa9bcd1a",
   "metadata": {},
   "outputs": [
    {
     "name": "stdout",
     "output_type": "stream",
     "text": [
      "[ 6  7  8  9 10 11]\n"
     ]
    }
   ],
   "source": [
    "b1 = np.arange(6,12,1) #increased element to 11 as reshape needed size 6 \n",
    "print(b1)"
   ]
  },
  {
   "cell_type": "code",
   "execution_count": 69,
   "id": "a0c8482e",
   "metadata": {},
   "outputs": [
    {
     "name": "stdout",
     "output_type": "stream",
     "text": [
      "[[ 6  7  8]\n",
      " [ 9 10 11]]\n"
     ]
    }
   ],
   "source": [
    "b=b1.reshape(2,3) #reshaped b as ValueError: all the input arrays must have same number of dimensions, but the array at index 0 has 2 dimension(s) and the array at index 1 has 1 dimension(s)\n",
    "print(b)"
   ]
  },
  {
   "cell_type": "markdown",
   "id": "a4865c62",
   "metadata": {},
   "source": [
    "6. Concatenate the two arrays together horizontally. 7. Print the resulting array."
   ]
  },
  {
   "cell_type": "code",
   "execution_count": 70,
   "id": "b6b4264c",
   "metadata": {},
   "outputs": [
    {
     "name": "stdout",
     "output_type": "stream",
     "text": [
      "[[ 0  1  2  6  7  8]\n",
      " [ 3  4  5  9 10 11]]\n"
     ]
    }
   ],
   "source": [
    "c=np.concatenate((a1,b),axis=1)\n",
    "print(c)"
   ]
  },
  {
   "cell_type": "markdown",
   "id": "bd7034f4",
   "metadata": {},
   "source": [
    "8. Compute the resulting array's mean, median, and standard deviation."
   ]
  },
  {
   "cell_type": "code",
   "execution_count": 50,
   "id": "f5067baf",
   "metadata": {},
   "outputs": [],
   "source": [
    "mean=np.mean(c)\n",
    "median=np.median(c)\n",
    "sd=np.std(c)"
   ]
  },
  {
   "cell_type": "code",
   "execution_count": 55,
   "id": "7acd542f",
   "metadata": {},
   "outputs": [
    {
     "name": "stdout",
     "output_type": "stream",
     "text": [
      "Mean: 5.5\n",
      "Median: 5.5\n",
      "Standard deviation: 3.452052529534663\n"
     ]
    }
   ],
   "source": [
    "print(\"Mean:\",mean) \n",
    "print(\"Median:\",median)\n",
    "print(\"Standard deviation:\",sd)"
   ]
  },
  {
   "cell_type": "code",
   "execution_count": 73,
   "id": "8b873e26",
   "metadata": {},
   "outputs": [
    {
     "name": "stdout",
     "output_type": "stream",
     "text": [
      "[1 2 3 4 5] [ 6  7  8  9 10]\n",
      "[ 1  2  3  4  5  6  7  8  9 10]\n"
     ]
    }
   ],
   "source": [
    "a2=np.arange(1,6,1)\n",
    "b2=np.arange(6,11,1)\n",
    "print(a2,b2)\n",
    "c1=c=np.concatenate((a2,b2)) #concatenate the arrays without reshape\n",
    "print(c1)"
   ]
  },
  {
   "cell_type": "code",
   "execution_count": 74,
   "id": "9ec45388",
   "metadata": {},
   "outputs": [
    {
     "name": "stdout",
     "output_type": "stream",
     "text": [
      "Mean: 5.5\n",
      "Median: 5.5\n",
      "Standard deviation: 2.8722813232690143\n"
     ]
    }
   ],
   "source": [
    "mean1=np.mean(c1)\n",
    "print(\"Mean:\",mean1) \n",
    "median1=np.median(c1)\n",
    "print(\"Median:\",median1)\n",
    "sd1=np.std(c1)\n",
    "print(\"Standard deviation:\",sd1) #sd different if they are not reshaped using 0 and 11"
   ]
  },
  {
   "cell_type": "raw",
   "id": "a0f544d5",
   "metadata": {},
   "source": [
    "Thank You!"
   ]
  }
 ],
 "metadata": {
  "kernelspec": {
   "display_name": "Python 3 (ipykernel)",
   "language": "python",
   "name": "python3"
  },
  "language_info": {
   "codemirror_mode": {
    "name": "ipython",
    "version": 3
   },
   "file_extension": ".py",
   "mimetype": "text/x-python",
   "name": "python",
   "nbconvert_exporter": "python",
   "pygments_lexer": "ipython3",
   "version": "3.10.9"
  }
 },
 "nbformat": 4,
 "nbformat_minor": 5
}
